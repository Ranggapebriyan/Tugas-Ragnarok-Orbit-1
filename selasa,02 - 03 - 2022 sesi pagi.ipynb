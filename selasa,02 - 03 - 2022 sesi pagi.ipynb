{
 "cells": [
  {
   "cell_type": "code",
   "execution_count": 1,
   "id": "fa679d46",
   "metadata": {},
   "outputs": [
    {
     "name": "stdout",
     "output_type": "stream",
     "text": [
      "hello word\n",
      "hello\n",
      "\n",
      "this is also a string\n"
     ]
    }
   ],
   "source": [
    "print (\"hello word\")\n",
    "\n",
    "#creating a String\n",
    "#Singel word\n",
    "print('hello')\n",
    "print()\n",
    "#entire phrase\n",
    "print('this is also a string')"
   ]
  },
  {
   "cell_type": "code",
   "execution_count": 2,
   "id": "d5d7392d",
   "metadata": {},
   "outputs": [
    {
     "name": "stdout",
     "output_type": "stream",
     "text": [
      "new york\n",
      "<class 'str'>\n",
      "8\n"
     ]
    }
   ],
   "source": [
    "#variabel\n",
    "s = 'new york'\n",
    "print(s)\n",
    "\n",
    "print(type(s))\n",
    "\n",
    "print(len(s))"
   ]
  },
  {
   "cell_type": "code",
   "execution_count": 3,
   "id": "c00eeec6",
   "metadata": {},
   "outputs": [
    {
     "name": "stdout",
     "output_type": "stream",
     "text": [
      "hello word\n",
      "\n",
      "h\n",
      "\n",
      "e\n"
     ]
    }
   ],
   "source": [
    "#string indexing\n",
    "s = 'hello word'\n",
    "print (s)\n",
    "print()\n",
    "print(s[0])\n",
    "print()\n",
    "print(s[1])"
   ]
  },
  {
   "cell_type": "code",
   "execution_count": 4,
   "id": "ed17c580",
   "metadata": {},
   "outputs": [
    {
     "name": "stdout",
     "output_type": "stream",
     "text": [
      "hello word\n"
     ]
    }
   ],
   "source": [
    "#string concatentation and repetition\n",
    "#cocatenation (addition)\n",
    "\n",
    "s1 = 'hello'\n",
    "s2 = 'word'\n",
    "print(s1+\" \"+s2)"
   ]
  },
  {
   "cell_type": "code",
   "execution_count": 5,
   "id": "e74f8892",
   "metadata": {},
   "outputs": [
    {
     "name": "stdout",
     "output_type": "stream",
     "text": [
      "hello_hello_hello_\n",
      "----------\n"
     ]
    }
   ],
   "source": [
    "#repetion (multiplication)\n",
    "\n",
    "print(\"hello_\"*3)\n",
    "print(\"-\"*10)"
   ]
  },
  {
   "cell_type": "code",
   "execution_count": 6,
   "id": "d95230aa",
   "metadata": {},
   "outputs": [
    {
     "name": "stdout",
     "output_type": "stream",
     "text": [
      "a\n",
      "e wor\n",
      "worl\n",
      "True\n"
     ]
    }
   ],
   "source": [
    "#string slicing & indexing\n",
    "s = \"nameste world\"\n",
    "\n",
    "print(s[1])\n",
    "print(s[6:11])\n",
    "print(s[-5:-1])\n",
    "print(\"wor\"in s)"
   ]
  },
  {
   "cell_type": "code",
   "execution_count": 7,
   "id": "4a06bb0d",
   "metadata": {},
   "outputs": [
    {
     "name": "stdout",
     "output_type": "stream",
     "text": [
      "HELLO WORLD\n",
      "hello world\n",
      "my name is rangga pebriyan, my age is 22, and it is True that i am marries\n",
      "my name is rangga pebriyan, my age is 22, and it is True that i am marries\n"
     ]
    }
   ],
   "source": [
    "#basic built-in string method\n",
    "s = \"hello world\"\n",
    "print(s.upper())\n",
    "print(s.lower())\n",
    "\n",
    "name = \"rangga pebriyan\"\n",
    "age = 22\n",
    "married = True\n",
    "\n",
    "print(\"my name is %s, my age is %s, and it is %s that i am marries\" % (name,age,married))\n",
    "print(\"my name is {}, my age is {}, and it is {} that i am marries\".format (name,age,married))"
   ]
  },
  {
   "cell_type": "code",
   "execution_count": 8,
   "id": "76ddeec0",
   "metadata": {},
   "outputs": [
    {
     "name": "stdout",
     "output_type": "stream",
     "text": [
      "3\n",
      "1\n",
      "2\n",
      "1.5\n"
     ]
    }
   ],
   "source": [
    "#basic arithmetic\n",
    "print(2+1)\n",
    "print(2-1)\n",
    "print(2*1)\n",
    "print(3/2)"
   ]
  },
  {
   "cell_type": "code",
   "execution_count": 9,
   "id": "a1d81813",
   "metadata": {},
   "outputs": [
    {
     "name": "stdout",
     "output_type": "stream",
     "text": [
      "<class 'int'>\n",
      "<class 'float'>\n"
     ]
    }
   ],
   "source": [
    "#indentifying data type\n",
    "a = 42\n",
    "b = 32.30\n",
    "print(type(a))\n",
    "print(type(b))"
   ]
  },
  {
   "cell_type": "code",
   "execution_count": 10,
   "id": "2729d770",
   "metadata": {},
   "outputs": [
    {
     "data": {
      "text/plain": [
       "4"
      ]
     },
     "execution_count": 10,
     "metadata": {},
     "output_type": "execute_result"
    }
   ],
   "source": [
    "#lists\n",
    "my_list = [1,2,3]\n",
    "my_list = ['A string',23,100.2232,'o']\n",
    "len(my_list)"
   ]
  },
  {
   "cell_type": "code",
   "execution_count": 12,
   "id": "98af2120",
   "metadata": {},
   "outputs": [
    {
     "name": "stdout",
     "output_type": "stream",
     "text": [
      "[1, 2.3, ['a', 'b'], 'new york', 3.1]\n"
     ]
    }
   ],
   "source": [
    "#adding new elements to a list\n",
    "my_list = ['one','two','three',4,5]\n",
    "\n",
    "#append\n",
    "l = [1,2.3,['a','b'],'new york']\n",
    "l.append(3.1)\n",
    "print(l)"
   ]
  },
  {
   "cell_type": "code",
   "execution_count": 13,
   "id": "2c5efd9b",
   "metadata": {},
   "outputs": [
    {
     "name": "stdout",
     "output_type": "stream",
     "text": [
      "[1, 2, 3, 4, 5, 6]\n",
      "[0, 1, 2, 3, 4, 5, 6, 7, 8, 9]\n",
      "elements from index 4 to 7 : [4, 5, 6]\n",
      "alternate elements, string at index 0 : [0, 2, 4, 6, 8]\n",
      "every third elements, string at index 1 : [1, 4, 7]\n"
     ]
    }
   ],
   "source": [
    "#extend\n",
    "l = [1,2,3]\n",
    "l.extend([4,5,6])\n",
    "print(l)\n",
    "\n",
    "#slicing\n",
    "lst = list (range(10))\n",
    "print(lst)\n",
    "\n",
    "print(\"elements from index 4 to 7 :\",lst[4:7])\n",
    "print(\"alternate elements, string at index 0 :\",lst[0::2])\n",
    "print(\"every third elements, string at index 1 :\",lst[1::3])"
   ]
  },
  {
   "cell_type": "code",
   "execution_count": 15,
   "id": "b147f3b8",
   "metadata": {},
   "outputs": [
    {
     "name": "stdout",
     "output_type": "stream",
     "text": [
      "x is currently : 0  x is still less than 10, adding 1 to x\n",
      "x is currently : 1  x is still less than 10, adding 1 to x\n",
      "x is currently : 2  x is still less than 10, adding 1 to x\n",
      "x is currently : 3  x is still less than 10, adding 1 to x\n",
      "x is currently : 4  x is still less than 10, adding 1 to x\n",
      "x is currently : 5  x is still less than 10, adding 1 to x\n",
      "x is currently : 6  x is still less than 10, adding 1 to x\n",
      "x is currently : 7  x is still less than 10, adding 1 to x\n",
      "x is currently : 8  x is still less than 10, adding 1 to x\n",
      "x is currently : 9  x is still less than 10, adding 1 to x\n"
     ]
    }
   ],
   "source": [
    "#while loops\n",
    "x = 0\n",
    "while x < 10 :\n",
    "    print('x is currently :',x,end=' ')\n",
    "    print(' x is still less than 10, adding 1 to x')\n",
    "    x+=1\n"
   ]
  },
  {
   "cell_type": "code",
   "execution_count": null,
   "id": "57eb5c01",
   "metadata": {},
   "outputs": [],
   "source": []
  }
 ],
 "metadata": {
  "kernelspec": {
   "display_name": "Python 3 (ipykernel)",
   "language": "python",
   "name": "python3"
  },
  "language_info": {
   "codemirror_mode": {
    "name": "ipython",
    "version": 3
   },
   "file_extension": ".py",
   "mimetype": "text/x-python",
   "name": "python",
   "nbconvert_exporter": "python",
   "pygments_lexer": "ipython3",
   "version": "3.9.7"
  }
 },
 "nbformat": 4,
 "nbformat_minor": 5
}
