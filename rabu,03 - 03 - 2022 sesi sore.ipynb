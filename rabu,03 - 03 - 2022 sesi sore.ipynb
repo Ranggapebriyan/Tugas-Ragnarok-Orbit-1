{
 "cells": [
  {
   "cell_type": "code",
   "execution_count": 4,
   "id": "40981d8b",
   "metadata": {},
   "outputs": [
    {
     "name": "stdout",
     "output_type": "stream",
     "text": [
      "masukan angka : 6\n",
      "masukan angka : 3\n",
      "True\n"
     ]
    }
   ],
   "source": [
    "def div(x,y):\n",
    "    if x % y == 0:\n",
    "        print(True)\n",
    "    else:\n",
    "        print(False)\n",
    "\n",
    "m = int(input(\"masukan angka : \"))\n",
    "n = int(input(\"masukan angka : \"))\n",
    "\n",
    "div(m,n)"
   ]
  },
  {
   "cell_type": "code",
   "execution_count": 18,
   "id": "ecdc9fdd",
   "metadata": {},
   "outputs": [
    {
     "name": "stdout",
     "output_type": "stream",
     "text": [
      "1. Soup and salad \n",
      "2. Pasta with meat sauce \n",
      "3. Chef's special\n",
      "Which number would you like to order? 1\n",
      "One Soup&Salad coming right up!\n"
     ]
    }
   ],
   "source": [
    "def menu():\n",
    "    print(\"1. Soup and salad \\n2. Pasta with meat sauce \\n3. Chef's special\")\n",
    "    choice = int(input(\"Which number would you like to order? \"))\n",
    "    if choice == 1:\n",
    "        print(\"One Soup&Salad coming right up!\")\n",
    "    elif choice == 2:\n",
    "        print(\"One Pasta with meat sauce coming right up!\")\n",
    "    elif choice == 3:\n",
    "        print(\"One Chef's special coming right up!\")\n",
    "    else:\n",
    "        print(\"Sorry, that is not a valid choice.\")\n",
    "\n",
    "menu()"
   ]
  },
  {
   "cell_type": "code",
   "execution_count": 14,
   "id": "31f0dd35",
   "metadata": {},
   "outputs": [
    {
     "data": {
      "text/plain": [
       "False"
      ]
     },
     "execution_count": 14,
     "metadata": {},
     "output_type": "execute_result"
    }
   ],
   "source": [
    "def rand_divis_3():\n",
    "    x = int(80)\n",
    "    if x % 3 == 0:\n",
    "        return True\n",
    "    else:\n",
    "        return False\n",
    "    \n",
    "rand_divis_3()"
   ]
  },
  {
   "cell_type": "code",
   "execution_count": 16,
   "id": "d7b7ca16",
   "metadata": {},
   "outputs": [
    {
     "name": "stdout",
     "output_type": "stream",
     "text": [
      "False\n"
     ]
    }
   ],
   "source": [
    "def sama(x, y):\n",
    "    if x is not y:\n",
    "        print(True)\n",
    "    else:\n",
    "        print(False)\n",
    "\n",
    "sama(10, 10)"
   ]
  },
  {
   "cell_type": "code",
   "execution_count": 17,
   "id": "edd6ad69",
   "metadata": {},
   "outputs": [
    {
     "name": "stdout",
     "output_type": "stream",
     "text": [
      "Enter your name: rangga pebriyan\n",
      "Your name is: rangga pebriyan\n"
     ]
    }
   ],
   "source": [
    "def ask_name():\n",
    "    name = input(\"Enter your name: \")\n",
    "    print(\"Your name is:\", name)\n",
    "    \n",
    "ask_name()"
   ]
  },
  {
   "cell_type": "code",
   "execution_count": null,
   "id": "3cce10ad",
   "metadata": {},
   "outputs": [],
   "source": []
  }
 ],
 "metadata": {
  "kernelspec": {
   "display_name": "Python 3 (ipykernel)",
   "language": "python",
   "name": "python3"
  },
  "language_info": {
   "codemirror_mode": {
    "name": "ipython",
    "version": 3
   },
   "file_extension": ".py",
   "mimetype": "text/x-python",
   "name": "python",
   "nbconvert_exporter": "python",
   "pygments_lexer": "ipython3",
   "version": "3.9.7"
  }
 },
 "nbformat": 4,
 "nbformat_minor": 5
}
