{
 "cells": [
  {
   "cell_type": "code",
   "execution_count": 1,
   "id": "14c061d6",
   "metadata": {},
   "outputs": [
    {
     "name": "stdout",
     "output_type": "stream",
     "text": [
      "b and c is False\n"
     ]
    }
   ],
   "source": [
    "a = False\n",
    "b = True\n",
    "c = False\n",
    "print ('b and c is',b and c)"
   ]
  },
  {
   "cell_type": "code",
   "execution_count": 2,
   "id": "a3352e40",
   "metadata": {},
   "outputs": [
    {
     "name": "stdout",
     "output_type": "stream",
     "text": [
      "b or c is True\n"
     ]
    }
   ],
   "source": [
    "a = False\n",
    "b = True\n",
    "c = False\n",
    "print ('b or c is', b or c)"
   ]
  },
  {
   "cell_type": "code",
   "execution_count": 3,
   "id": "46d527f1",
   "metadata": {},
   "outputs": [
    {
     "name": "stdout",
     "output_type": "stream",
     "text": [
      "not a and b is True\n"
     ]
    }
   ],
   "source": [
    "a = False\n",
    "b = True\n",
    "c = False\n",
    "print ('not a and b is',not a and b)"
   ]
  },
  {
   "cell_type": "code",
   "execution_count": 4,
   "id": "246fe4e7",
   "metadata": {},
   "outputs": [
    {
     "name": "stdout",
     "output_type": "stream",
     "text": [
      "(a and b) or not c is True\n"
     ]
    }
   ],
   "source": [
    "a = False\n",
    "b = True\n",
    "c = False\n",
    "print ('(a and b) or not c is',(a and b) or not c)"
   ]
  },
  {
   "cell_type": "code",
   "execution_count": 5,
   "id": "0a5d40f1",
   "metadata": {},
   "outputs": [
    {
     "name": "stdout",
     "output_type": "stream",
     "text": [
      "not b and not (a or c) is False\n"
     ]
    }
   ],
   "source": [
    "a = False\n",
    "b = True\n",
    "c = False\n",
    "print ('not b and not (a or c) is',not b and not (a or c))"
   ]
  },
  {
   "cell_type": "code",
   "execution_count": 6,
   "id": "d635da38",
   "metadata": {},
   "outputs": [
    {
     "name": "stdout",
     "output_type": "stream",
     "text": [
      "hello!\n",
      "enter something : something\n",
      "you entered : something\n"
     ]
    }
   ],
   "source": [
    "print('hello!')\n",
    "something = input (\"enter something : \")\n",
    "print('you entered : something')"
   ]
  },
  {
   "cell_type": "code",
   "execution_count": 7,
   "id": "01d7af6d",
   "metadata": {},
   "outputs": [
    {
     "name": "stdout",
     "output_type": "stream",
     "text": [
      "hello!\n",
      "enter something : no\n",
      "I don't know what, no means.\n"
     ]
    }
   ],
   "source": [
    "print('hello!')\n",
    "something = input (\"enter something : \")\n",
    "if something == 'hello' :\n",
    "    print(\"hello for you too!\")\n",
    "\n",
    "elif something == 'hi' :\n",
    "    print('hi there!')\n",
    "else :\n",
    "    print(\"I don't know what,\",something,\"means.\")"
   ]
  },
  {
   "cell_type": "code",
   "execution_count": 53,
   "id": "9b74a092",
   "metadata": {},
   "outputs": [
    {
     "name": "stdout",
     "output_type": "stream",
     "text": [
      "mulai!\n",
      "hanya masukan gunting / batu / kertas\n",
      "pemain 1 masukan pilihanmu : kertas\n",
      "pemain 2 masukan pilihanmu : batu\n",
      "selamat pemain 1 meang!\n"
     ]
    }
   ],
   "source": [
    "print('mulai!')\n",
    "print('hanya masukan gunting / batu / kertas')\n",
    "pilih1 = input(\"pemain 1 masukan pilihanmu : \")\n",
    "pilih2 = input(\"pemain 2 masukan pilihanmu : \")\n",
    "if pilih1 == 'batu' :\n",
    "    if pilih2 == 'gunting' :\n",
    "        print(\"selamat pemain 1 menang!\")\n",
    "        \n",
    "    elif pilih2 == 'batu' :\n",
    "        print(\"seri\")\n",
    "    elif pilih2 == 'kertas' :\n",
    "        print(\"selamat pemain 2 menang!\")\n",
    "    else :\n",
    "        print(\"pemain 2 masukan pilihan dengan benar!\")\n",
    "\n",
    "elif pilih1 == 'gunting' :\n",
    "    if pilih2 == 'gunting' :\n",
    "        print(\"seri!\")\n",
    "    elif pilih2 == 'batu' :\n",
    "        print(\"selamat pemain 2 meang!\")\n",
    "    elif pilih2 == 'kertas' :\n",
    "        print(\"selamat pemain 1 menang!\")\n",
    "    else :\n",
    "        print(\"pemain 2 masukan pilihan dengan benar!\")\n",
    "    \n",
    "elif pilih1 == 'kertas' :\n",
    "    if pilih2 == 'gunting' :\n",
    "        print(\"selamat pemain 2 menang!\")\n",
    "    elif pilih2 == 'batu' :\n",
    "        print(\"selamat pemain 1 meang!\")\n",
    "    elif pilih2 == 'kertas' :\n",
    "        print(\"seri!\")\n",
    "    else :\n",
    "        print(\"pemain 2 masukan pilihan dengan benar!\")\n",
    "            \n",
    "\n",
    "else :\n",
    "    print(\"pemain 1 masukan pilihan dengan benar!\")"
   ]
  },
  {
   "cell_type": "code",
   "execution_count": 54,
   "id": "77389521",
   "metadata": {},
   "outputs": [
    {
     "name": "stdout",
     "output_type": "stream",
     "text": [
      "MENU JAJANAN PASAR\n",
      "1.donat - Rp. 1.250\n",
      "2.bakwan - Rp. 1.000\n",
      "3.onde-onde - Rp. 800\n",
      "4.lemper - Rp. 1.250\n",
      "5.risol - Rp. 1.500\n",
      "silahkan masukan pesanan (dengan angka1-5) : 4\n",
      "kamu memesan lemper seharga Rp. 1.250, terimakasih sudah berbelanja.\n",
      "tuliskan 'cukup' jika selesai berbelanja : cukup\n",
      "terimakasih sudah berbelanja jajanan pasar kami!\n"
     ]
    }
   ],
   "source": [
    "print('MENU JAJANAN PASAR')\n",
    "print('1.donat - Rp. 1.250')\n",
    "print('2.bakwan - Rp. 1.000')\n",
    "print('3.onde-onde - Rp. 800')\n",
    "print('4.lemper - Rp. 1.250')\n",
    "print('5.risol - Rp. 1.500')\n",
    "pilih = input(\"silahkan masukan pesanan (dengan angka1-5) : \")\n",
    "\n",
    "if pilih == '1' :\n",
    "    print(\"kamu memesan donat seharga Rp. 1.250, terimakasih sudah berbelanja.\")\n",
    "elif pilih == '2' :\n",
    "    print(\"kamu memesan bakwan seharga Rp. 1.000, terimakasih sudah berbelanja.\")\n",
    "elif pilih == '3' :\n",
    "    print(\"kamu memesan onde-onde seharga Rp. 800, terimakasih sudah berbelanja.\")\n",
    "elif pilih == '4' :\n",
    "    print(\"kamu memesan lemper seharga Rp. 1.250, terimakasih sudah berbelanja.\")\n",
    "elif pilih == '5' :\n",
    "    print(\"kamu memesan risol seharga Rp. 1.500, terimakasih sudah berbelanja.\")\n",
    "else :\n",
    "    print(\"masukan pilihan dengan benar!\")\n",
    "    \n",
    "pilih2 = input(\"tuliskan 'cukup' jika selesai berbelanja : \")\n",
    "print(\"terimakasih sudah berbelanja jajanan pasar kami!\")"
   ]
  },
  {
   "cell_type": "code",
   "execution_count": 1,
   "id": "5c2cad29",
   "metadata": {},
   "outputs": [
    {
     "name": "stdout",
     "output_type": "stream",
     "text": [
      "('hello', 'hai', 'hello', 'hello')\n",
      "('hello', 'hai', 'hello', 'hello')\n",
      "('hello', 'hai', 'hello', 'hello')\n",
      "('hello', 'hai', 'hello', 'hello')\n",
      "('hello', 'hai', 'hello', 'hello')\n",
      "('hello', 'hai', 'hello', 'hello')\n",
      "('hello', 'hai', 'hello', 'hello')\n",
      "('hello', 'hai', 'hello', 'hello')\n",
      "('hello', 'hai', 'hello', 'hello')\n",
      "('hello', 'hai', 'hello', 'hello')\n",
      "('hello', 'hai', 'hello', 'hello')\n",
      "('hello', 'hai', 'hello', 'hello')\n",
      "('hello', 'hai', 'hello', 'hello')\n",
      "('hello', 'hai', 'hello', 'hello')\n",
      "('hello', 'hai', 'hello', 'hello')\n",
      "('hello', 'hai', 'hello', 'hello')\n",
      "('hello', 'hai', 'hello', 'hello')\n",
      "('hello', 'hai', 'hello', 'hello')\n",
      "('hello', 'hai', 'hello', 'hello')\n",
      "('hello', 'hai', 'hello', 'hello')\n",
      "('hello', 'hai', 'hello', 'hello')\n",
      "('hello', 'hai', 'hello', 'hello')\n",
      "('hello', 'hai', 'hello', 'hello')\n",
      "('hello', 'hai', 'hello', 'hello')\n",
      "('hello', 'hai', 'hello', 'hello')\n",
      "('hello', 'hai', 'hello', 'hello')\n",
      "('hello', 'hai', 'hello', 'hello')\n",
      "('hello', 'hai', 'hello', 'hello')\n",
      "('hello', 'hai', 'hello', 'hello')\n",
      "('hello', 'hai', 'hello', 'hello')\n",
      "('hello', 'hai', 'hello', 'hello')\n",
      "('hello', 'hai', 'hello', 'hello')\n",
      "('hello', 'hai', 'hello', 'hello')\n",
      "('hello', 'hai', 'hello', 'hello')\n",
      "('hello', 'hai', 'hello', 'hello')\n",
      "('hello', 'hai', 'hello', 'hello')\n",
      "('hello', 'hai', 'hello', 'hello')\n",
      "('hello', 'hai', 'hello', 'hello')\n",
      "('hello', 'hai', 'hello', 'hello')\n",
      "('hello', 'hai', 'hello', 'hello')\n",
      "('hello', 'hai', 'hello', 'hello')\n",
      "('hello', 'hai', 'hello', 'hello')\n",
      "('hello', 'hai', 'hello', 'hello')\n",
      "('hello', 'hai', 'hello', 'hello')\n",
      "('hello', 'hai', 'hello', 'hello')\n",
      "('hello', 'hai', 'hello', 'hello')\n",
      "('hello', 'hai', 'hello', 'hello')\n",
      "('hello', 'hai', 'hello', 'hello')\n",
      "('hello', 'hai', 'hello', 'hello')\n",
      "('hello', 'hai', 'hello', 'hello')\n",
      "('hello', 'hai', 'hello', 'hello')\n",
      "('hello', 'hai', 'hello', 'hello')\n",
      "('hello', 'hai', 'hello', 'hello')\n",
      "('hello', 'hai', 'hello', 'hello')\n",
      "('hello', 'hai', 'hello', 'hello')\n",
      "('hello', 'hai', 'hello', 'hello')\n",
      "('hello', 'hai', 'hello', 'hello')\n",
      "('hello', 'hai', 'hello', 'hello')\n",
      "('hello', 'hai', 'hello', 'hello')\n",
      "('hello', 'hai', 'hello', 'hello')\n",
      "('hello', 'hai', 'hello', 'hello')\n",
      "('hello', 'hai', 'hello', 'hello')\n",
      "('hello', 'hai', 'hello', 'hello')\n",
      "('hello', 'hai', 'hello', 'hello')\n",
      "('hello', 'hai', 'hello', 'hello')\n",
      "('hello', 'hai', 'hello', 'hello')\n",
      "('hello', 'hai', 'hello', 'hello')\n",
      "('hello', 'hai', 'hello', 'hello')\n",
      "('hello', 'hai', 'hello', 'hello')\n",
      "('hello', 'hai', 'hello', 'hello')\n",
      "('hello', 'hai', 'hello', 'hello')\n",
      "('hello', 'hai', 'hello', 'hello')\n",
      "('hello', 'hai', 'hello', 'hello')\n",
      "('hello', 'hai', 'hello', 'hello')\n",
      "('hello', 'hai', 'hello', 'hello')\n",
      "('hello', 'hai', 'hello', 'hello')\n",
      "('hello', 'hai', 'hello', 'hello')\n",
      "('hello', 'hai', 'hello', 'hello')\n",
      "('hello', 'hai', 'hello', 'hello')\n",
      "('hello', 'hai', 'hello', 'hello')\n",
      "('hello', 'hai', 'hello', 'hello')\n",
      "('hello', 'hai', 'hello', 'hello')\n",
      "('hello', 'hai', 'hello', 'hello')\n",
      "('hello', 'hai', 'hello', 'hello')\n",
      "('hello', 'hai', 'hello', 'hello')\n",
      "('hello', 'hai', 'hello', 'hello')\n",
      "('hello', 'hai', 'hello', 'hello')\n",
      "('hello', 'hai', 'hello', 'hello')\n",
      "('hello', 'hai', 'hello', 'hello')\n",
      "('hello', 'hai', 'hello', 'hello')\n",
      "('hello', 'hai', 'hello', 'hello')\n",
      "('hello', 'hai', 'hello', 'hello')\n",
      "('hello', 'hai', 'hello', 'hello')\n",
      "('hello', 'hai', 'hello', 'hello')\n",
      "('hello', 'hai', 'hello', 'hello')\n",
      "('hello', 'hai', 'hello', 'hello')\n",
      "('hello', 'hai', 'hello', 'hello')\n",
      "('hello', 'hai', 'hello', 'hello')\n",
      "('hello', 'hai', 'hello', 'hello')\n",
      "('hello', 'hai', 'hello', 'hello')\n"
     ]
    }
   ],
   "source": [
    "for i in range(0,100):\n",
    "    repeat=('hello','hai','hello','hello')\n",
    "    print(repeat)"
   ]
  },
  {
   "cell_type": "code",
   "execution_count": null,
   "id": "a1ba920e",
   "metadata": {},
   "outputs": [],
   "source": []
  }
 ],
 "metadata": {
  "kernelspec": {
   "display_name": "Python 3 (ipykernel)",
   "language": "python",
   "name": "python3"
  },
  "language_info": {
   "codemirror_mode": {
    "name": "ipython",
    "version": 3
   },
   "file_extension": ".py",
   "mimetype": "text/x-python",
   "name": "python",
   "nbconvert_exporter": "python",
   "pygments_lexer": "ipython3",
   "version": "3.9.7"
  }
 },
 "nbformat": 4,
 "nbformat_minor": 5
}
