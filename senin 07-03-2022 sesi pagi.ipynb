{
 "cells": [
  {
   "cell_type": "code",
   "execution_count": null,
   "id": "57353ad9",
   "metadata": {},
   "outputs": [],
   "source": []
  },
  {
   "cell_type": "code",
   "execution_count": 17,
   "id": "9318d86d",
   "metadata": {},
   "outputs": [
    {
     "name": "stdout",
     "output_type": "stream",
     "text": [
      "Nama : ucup\n",
      "Gaji : 1.000.000\n",
      "\n",
      "Nama : dodi\n",
      "Gaji : 1.500.000\n",
      "\n",
      "Total karyawan : 2\n"
     ]
    }
   ],
   "source": [
    "class Karyawan:\n",
    "    '''Dasar kelas untuk semua karyawan'''\n",
    "    jumlah_karyawan = 0\n",
    "\n",
    "    def __init__(self, nama, gaji):\n",
    "        self.nama = nama\n",
    "        self.gaji = gaji\n",
    "        Karyawan.jumlah_karyawan += 1\n",
    "\n",
    "    def tampilkan_jumlah(self):\n",
    "        print(\"Total karyawan:\", Karyawan.jumlah_karyawan)\n",
    "\n",
    "    def tampilkan_profil(self):\n",
    "        print(\"Nama :\", self.nama)\n",
    "        print(\"Gaji :\", self.gaji)\n",
    "        print()\n",
    "# Membuat objek pertama dari kelas Karyawan\n",
    "karyawan1 = Karyawan(\"ucup\", \"1.000.000\")\n",
    "\n",
    "# Membuat objek kedua dari kelas Karyawan\n",
    "karyawan2 = Karyawan(\"dodi\", \"1.500.000\")\n",
    "\n",
    "karyawan1.tampilkan_profil()\n",
    "karyawan2.tampilkan_profil()\n",
    "print(\"Total karyawan :\", Karyawan.jumlah_karyawan)"
   ]
  },
  {
   "cell_type": "code",
   "execution_count": 23,
   "id": "a4a1fab5",
   "metadata": {},
   "outputs": [
    {
     "name": "stdout",
     "output_type": "stream",
     "text": [
      "10 + 3 = 13\n",
      "10 - 3 = 7\n",
      "10 * 3 = 30\n",
      "10 / 3 = 3.3333333333333335\n",
      "10 % 3 = 1\n",
      "10 ** 3 = 1000\n",
      "10 // 3 = 3\n"
     ]
    }
   ],
   "source": [
    "a, b = 10, 3\n",
    "\n",
    "print(a, '+', b, '=', a + b)\n",
    "print(a, '-', b, '=', a - b)\n",
    "print(a, '*', b, '=', a * b)\n",
    "print(a, '/', b, '=', a / b)\n",
    "print(a, '%', b, '=', a % b)\n",
    "print(a, '**', b, '=', a ** b)\n",
    "print(a, '//', b, '=', a //b)"
   ]
  },
  {
   "cell_type": "code",
   "execution_count": 24,
   "id": "a2074580",
   "metadata": {},
   "outputs": [
    {
     "name": "stdout",
     "output_type": "stream",
     "text": [
      "5 > 10 = False\n",
      "5 < 10 = True\n",
      "5 == 10 = False\n",
      "5 != 10 = True\n",
      "5 >= 10 = False\n",
      "5 <= 10 = True\n"
     ]
    }
   ],
   "source": [
    "a, b = 5, 10\n",
    "\n",
    "print(a, '>', b, '=', a > b)\n",
    "print(a, '<', b, '=', a < b)\n",
    "print(a, '==', b, '=', a == b)\n",
    "print(a, '!=', b, '=', a != b)\n",
    "print(a, '>=', b, '=', a >= b)\n",
    "print(a, '<=', b, '=', a <= b)"
   ]
  },
  {
   "cell_type": "code",
   "execution_count": 26,
   "id": "040cb759",
   "metadata": {},
   "outputs": [
    {
     "name": "stdout",
     "output_type": "stream",
     "text": [
      "The factorial of 10 is 3628800\n",
      "Release any resources in use.\n",
      "Factorial only accepts positive integer values. -5  is not a positive integer.\n",
      "Release any resources in use.\n",
      "Factorial only accepts positive integer values. 1.2  is not a positive integer.\n",
      "Release any resources in use.\n",
      "Factorial is not supported for given input type.\n",
      "Release any resources in use.\n"
     ]
    },
    {
     "name": "stderr",
     "output_type": "stream",
     "text": [
      "C:\\Users\\Admin\\AppData\\Local\\Temp/ipykernel_7800/1422905339.py:7: DeprecationWarning: Using factorial() with floats is deprecated\n",
      "  number_factorial = math.factorial(number)\n"
     ]
    }
   ],
   "source": [
    "import math\n",
    " \n",
    "number_list = [10,-5,1.2,'apple']\n",
    " \n",
    "for number in number_list:\n",
    "    try:\n",
    "        number_factorial = math.factorial(number)\n",
    "    except TypeError:\n",
    "        print(\"Factorial is not supported for given input type.\")\n",
    "    except ValueError:\n",
    "        print(\"Factorial only accepts positive integer values.\", number,\" is not a positive integer.\")\n",
    "    else:\n",
    "        print(\"The factorial of\",number,\"is\", number_factorial)\n",
    "    finally:\n",
    "        print(\"Release any resources in use.\")"
   ]
  },
  {
   "cell_type": "code",
   "execution_count": null,
   "id": "97f7e5a0",
   "metadata": {},
   "outputs": [],
   "source": []
  }
 ],
 "metadata": {
  "kernelspec": {
   "display_name": "Python 3 (ipykernel)",
   "language": "python",
   "name": "python3"
  },
  "language_info": {
   "codemirror_mode": {
    "name": "ipython",
    "version": 3
   },
   "file_extension": ".py",
   "mimetype": "text/x-python",
   "name": "python",
   "nbconvert_exporter": "python",
   "pygments_lexer": "ipython3",
   "version": "3.9.7"
  }
 },
 "nbformat": 4,
 "nbformat_minor": 5
}
