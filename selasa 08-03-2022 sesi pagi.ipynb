{
 "cells": [
  {
   "cell_type": "code",
   "execution_count": 1,
   "id": "dd0bbc2f",
   "metadata": {},
   "outputs": [
    {
     "data": {
      "text/plain": [
       "(array([[1, 2],\n",
       "        [7, 8]]),\n",
       " array([[3, 5],\n",
       "        [1, 6]]))"
      ]
     },
     "execution_count": 1,
     "metadata": {},
     "output_type": "execute_result"
    }
   ],
   "source": [
    "import numpy as np\n",
    "import numpy.linalg as nlin\n",
    "\n",
    "A = np.array([[1, 2], [7,8]])\n",
    "B = np.array([[3, 5], [1,6]])\n",
    "\n",
    "A,B"
   ]
  },
  {
   "cell_type": "code",
   "execution_count": 2,
   "id": "78e9bfb0",
   "metadata": {},
   "outputs": [
    {
     "data": {
      "text/plain": [
       "array([[ 2,  4],\n",
       "       [14, 16]])"
      ]
     },
     "execution_count": 2,
     "metadata": {},
     "output_type": "execute_result"
    }
   ],
   "source": [
    "2*A"
   ]
  },
  {
   "cell_type": "code",
   "execution_count": 3,
   "id": "889c03b8",
   "metadata": {},
   "outputs": [
    {
     "data": {
      "text/plain": [
       "array([[ 3,  4],\n",
       "       [ 9, 10]])"
      ]
     },
     "execution_count": 3,
     "metadata": {},
     "output_type": "execute_result"
    }
   ],
   "source": [
    "2+A"
   ]
  },
  {
   "cell_type": "code",
   "execution_count": 4,
   "id": "3a672f44",
   "metadata": {},
   "outputs": [
    {
     "data": {
      "text/plain": [
       "array([[ 4,  7],\n",
       "       [ 8, 14]])"
      ]
     },
     "execution_count": 4,
     "metadata": {},
     "output_type": "execute_result"
    }
   ],
   "source": [
    "A+B"
   ]
  },
  {
   "cell_type": "code",
   "execution_count": 5,
   "id": "7543e50c",
   "metadata": {},
   "outputs": [
    {
     "data": {
      "text/plain": [
       "array([[-2, -3],\n",
       "       [ 6,  2]])"
      ]
     },
     "execution_count": 5,
     "metadata": {},
     "output_type": "execute_result"
    }
   ],
   "source": [
    "A-B"
   ]
  },
  {
   "cell_type": "code",
   "execution_count": 6,
   "id": "f42931f1",
   "metadata": {},
   "outputs": [
    {
     "data": {
      "text/plain": [
       "-6.0"
      ]
     },
     "execution_count": 6,
     "metadata": {},
     "output_type": "execute_result"
    }
   ],
   "source": [
    "nlin.det(A)"
   ]
  },
  {
   "cell_type": "code",
   "execution_count": 7,
   "id": "4ced415a",
   "metadata": {},
   "outputs": [
    {
     "data": {
      "text/plain": [
       "array([[ 0.46153846, -0.38461538],\n",
       "       [-0.07692308,  0.23076923]])"
      ]
     },
     "execution_count": 7,
     "metadata": {},
     "output_type": "execute_result"
    }
   ],
   "source": [
    "D = nlin.inv(B)\n",
    "\n",
    "D"
   ]
  },
  {
   "cell_type": "code",
   "execution_count": 8,
   "id": "5f5aae6d",
   "metadata": {},
   "outputs": [
    {
     "data": {
      "text/plain": [
       "array([[ 0.46153846, -0.07692308],\n",
       "       [-0.38461538,  0.23076923]])"
      ]
     },
     "execution_count": 8,
     "metadata": {},
     "output_type": "execute_result"
    }
   ],
   "source": [
    "np.transpose(D)"
   ]
  },
  {
   "cell_type": "code",
   "execution_count": 9,
   "id": "8f4c9ffc",
   "metadata": {},
   "outputs": [
    {
     "name": "stdout",
     "output_type": "stream",
     "text": [
      "Nilai Eig matrix A :\n",
      " [-0.62347538  9.62347538]\n",
      "\n",
      "Vektor Eig matrix A :\n",
      " [[-0.77640358 -0.22592838]\n",
      " [ 0.63023605 -0.97414391]]\n"
     ]
    }
   ],
   "source": [
    "nilaiEigA, vektorEigA=nlin.eig(A)\n",
    "\n",
    "print(\"Nilai Eig matrix A :\\n\",nilaiEigA)\n",
    "print(\"\\nVektor Eig matrix A :\\n\", vektorEigA)"
   ]
  },
  {
   "cell_type": "code",
   "execution_count": 10,
   "id": "db510e0d",
   "metadata": {},
   "outputs": [
    {
     "name": "stdout",
     "output_type": "stream",
     "text": [
      "Nilai Eig matrix B :\n",
      " [1.8074176 7.1925824]\n",
      "\n",
      "Vektor Eig matrix B :\n",
      " [[-0.97271381 -0.76626443]\n",
      " [ 0.23200828 -0.64252535]]\n"
     ]
    }
   ],
   "source": [
    "nilaiEigB, vektorEigB=nlin.eig(B)\n",
    "\n",
    "print(\"Nilai Eig matrix B :\\n\",nilaiEigB)\n",
    "print(\"\\nVektor Eig matrix B :\\n\", vektorEigB)"
   ]
  },
  {
   "cell_type": "code",
   "execution_count": null,
   "id": "70923372",
   "metadata": {},
   "outputs": [],
   "source": []
  }
 ],
 "metadata": {
  "kernelspec": {
   "display_name": "Python 3 (ipykernel)",
   "language": "python",
   "name": "python3"
  },
  "language_info": {
   "codemirror_mode": {
    "name": "ipython",
    "version": 3
   },
   "file_extension": ".py",
   "mimetype": "text/x-python",
   "name": "python",
   "nbconvert_exporter": "python",
   "pygments_lexer": "ipython3",
   "version": "3.9.7"
  }
 },
 "nbformat": 4,
 "nbformat_minor": 5
}
