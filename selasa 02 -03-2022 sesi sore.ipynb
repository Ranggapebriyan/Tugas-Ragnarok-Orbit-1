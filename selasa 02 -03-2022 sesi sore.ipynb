{
 "cells": [
  {
   "cell_type": "code",
   "execution_count": 1,
   "id": "748d83a1",
   "metadata": {},
   "outputs": [],
   "source": [
    "def cek(x,y) :\n",
    "    hasil = x%y\n",
    "    if hasil==0 :\n",
    "        return True\n",
    "    else :\n",
    "        return False"
   ]
  },
  {
   "cell_type": "code",
   "execution_count": 2,
   "id": "969f82bb",
   "metadata": {},
   "outputs": [
    {
     "name": "stdout",
     "output_type": "stream",
     "text": [
      "masukkan nilai x : 5\n",
      "masukkan nilai y : 3\n",
      "False\n"
     ]
    }
   ],
   "source": [
    "x = int(input(\"masukkan nilai x : \"))\n",
    "y = int(input(\"masukkan nilai y : \"))\n",
    "hasil = cek(x,y)\n",
    "print(hasil)"
   ]
  },
  {
   "cell_type": "code",
   "execution_count": 3,
   "id": "c7656e90",
   "metadata": {},
   "outputs": [
    {
     "name": "stdout",
     "output_type": "stream",
     "text": [
      "\n",
      "MENU\n",
      "1 . Soup and Salad\n",
      "2 . Pasta with meat sauce\n",
      "3 . Chef's special\n",
      "Which number would you like to order? 3\n",
      "One Chef's special coming right up\n"
     ]
    }
   ],
   "source": [
    "menu= ['Soup and Salad', 'Pasta with meat sauce', \"Chef's special\"]\n",
    "i=0\n",
    "print(\"\\nMENU\")\n",
    "for x in range(3) :\n",
    "    print(i+1,\".\",menu[i])\n",
    "    i+=1\n",
    "\n",
    "a=int(input(\"Which number would you like to order? \"))\n",
    "\n",
    "if a == 1 or a ==2 or a ==3 :\n",
    "    print(\"One\", menu[a-1], \"coming right up\")\n",
    "else :\n",
    "    print(\"Sorry, that is not a valid choice.\")\n",
    "    "
   ]
  },
  {
   "cell_type": "code",
   "execution_count": 4,
   "id": "60f5d015",
   "metadata": {},
   "outputs": [
    {
     "name": "stdout",
     "output_type": "stream",
     "text": [
      "Masukkan angka yang ingin dibagi 3 : 4\n",
      "False\n"
     ]
    }
   ],
   "source": [
    "def pembagianTiga():\n",
    "    angka = int(input(\"Masukkan angka yang ingin dibagi 3 : \"))\n",
    "    if angka%3 == 0 :\n",
    "        return True\n",
    "    else :\n",
    "        return False\n",
    "\n",
    "hasil=pembagianTiga()\n",
    "print(hasil)"
   ]
  },
  {
   "cell_type": "code",
   "execution_count": 5,
   "id": "915474b2",
   "metadata": {},
   "outputs": [
    {
     "name": "stdout",
     "output_type": "stream",
     "text": [
      "masukkan nilai m : 3\n",
      "masukkan nilai n : 2\n"
     ]
    },
    {
     "data": {
      "text/plain": [
       "True"
      ]
     },
     "execution_count": 5,
     "metadata": {},
     "output_type": "execute_result"
    }
   ],
   "source": [
    "def cekKesamaan(m,n) :\n",
    "    if (m == n):\n",
    "        return False\n",
    "    else:\n",
    "        return True\n",
    "    \n",
    "m=int(input(\"masukkan nilai m : \"))\n",
    "n=int(input(\"masukkan nilai n : \"))\n",
    "\n",
    "cekKesamaan(m,n)"
   ]
  },
  {
   "cell_type": "code",
   "execution_count": 6,
   "id": "d997bc73",
   "metadata": {},
   "outputs": [
    {
     "name": "stdout",
     "output_type": "stream",
     "text": [
      "Enter your name :rangga\n",
      "Your name is rangga\n"
     ]
    }
   ],
   "source": [
    "def ask_name():\n",
    "    name=input(\"Enter your name :\")\n",
    "    return name\n",
    "    \n",
    "name=ask_name()\n",
    "print(\"Your name is\", name)"
   ]
  },
  {
   "cell_type": "code",
   "execution_count": null,
   "id": "f06b4dbc",
   "metadata": {},
   "outputs": [],
   "source": []
  }
 ],
 "metadata": {
  "kernelspec": {
   "display_name": "Python 3 (ipykernel)",
   "language": "python",
   "name": "python3"
  },
  "language_info": {
   "codemirror_mode": {
    "name": "ipython",
    "version": 3
   },
   "file_extension": ".py",
   "mimetype": "text/x-python",
   "name": "python",
   "nbconvert_exporter": "python",
   "pygments_lexer": "ipython3",
   "version": "3.9.7"
  }
 },
 "nbformat": 4,
 "nbformat_minor": 5
}
